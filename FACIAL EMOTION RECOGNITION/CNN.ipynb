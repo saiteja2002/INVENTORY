{
  "nbformat": 4,
  "nbformat_minor": 0,
  "metadata": {
    "accelerator": "GPU",
    "colab": {
      "name": "CNN",
      "provenance": [],
      "collapsed_sections": []
    },
    "kernelspec": {
      "display_name": "Python 3",
      "name": "python3"
    }
  },
  "cells": [
    {
      "cell_type": "code",
      "metadata": {
        "colab": {
          "resources": {
            "http://localhost:8080/nbextensions/google.colab/files.js": {
              "data": "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",
              "ok": true,
              "headers": [
                [
                  "content-type",
                  "application/javascript"
                ]
              ],
              "status": 200,
              "status_text": ""
            }
          },
          "base_uri": "https://localhost:8080/",
          "height": 459
        },
        "id": "C6btWJYt4WNA",
        "outputId": "34b1bf8a-072b-4def-9a4b-938d0a6e45e0"
      },
      "source": [
        "from google.colab import files\n",
        "files.upload()\n",
        "! mkdir ~/.kaggle\n",
        "\n",
        "! cp kaggle.json ~/.kaggle/\n",
        "! chmod 600 ~/.kaggle/kaggle.json\n",
        "! kaggle datasets list\n"
      ],
      "execution_count": null,
      "outputs": [
        {
          "output_type": "display_data",
          "data": {
            "text/html": [
              "\n",
              "     <input type=\"file\" id=\"files-cdd35a7c-fafa-4904-b03e-3c514a7e4895\" name=\"files[]\" multiple disabled\n",
              "        style=\"border:none\" />\n",
              "     <output id=\"result-cdd35a7c-fafa-4904-b03e-3c514a7e4895\">\n",
              "      Upload widget is only available when the cell has been executed in the\n",
              "      current browser session. Please rerun this cell to enable.\n",
              "      </output>\n",
              "      <script src=\"/nbextensions/google.colab/files.js\"></script> "
            ],
            "text/plain": [
              "<IPython.core.display.HTML object>"
            ]
          },
          "metadata": {
            "tags": []
          }
        },
        {
          "output_type": "stream",
          "text": [
            "Saving kaggle.json to kaggle.json\n",
            "Warning: Looks like you're using an outdated API Version, please consider updating (server 1.5.12 / client 1.5.4)\n",
            "ref                                                           title                                              size  lastUpdated          downloadCount  \n",
            "------------------------------------------------------------  ------------------------------------------------  -----  -------------------  -------------  \n",
            "gpreda/reddit-vaccine-myths                                   Reddit Vaccine Myths                              233KB  2021-07-07 19:18:09           8912  \n",
            "crowww/a-large-scale-fish-dataset                             A Large Scale Fish Dataset                          3GB  2021-04-28 17:03:01           5462  \n",
            "imsparsh/musicnet-dataset                                     MusicNet Dataset                                   22GB  2021-02-18 14:12:19           1962  \n",
            "dhruvildave/wikibooks-dataset                                 Wikibooks Dataset                                   2GB  2021-07-03 18:37:20           2367  \n",
            "promptcloud/careerbuilder-job-listing-2020                    Careerbuilder Job Listing 2020                     42MB  2021-03-05 06:59:52           1271  \n",
            "fatiimaezzahra/famous-iconic-women                            Famous Iconic Women                               838MB  2021-02-28 14:56:00            908  \n",
            "nickuzmenkov/nih-chest-xrays-tfrecords                        NIH Chest X-rays TFRecords                         11GB  2021-03-09 04:49:23            704  \n",
            "coloradokb/dandelionimages                                    DandelionImages                                     4GB  2021-02-19 20:03:47            664  \n",
            "mathurinache/twitter-edge-nodes                               Twitter Edge Nodes                                342MB  2021-03-08 06:43:04            620  \n",
            "simiotic/github-code-snippets                                 GitHub Code Snippets                                7GB  2021-03-03 11:34:39            206  \n",
            "alsgroup/end-als                                              End ALS Kaggle Challenge                           12GB  2021-04-08 12:16:37            762  \n",
            "landrykezebou/lvzhdr-tone-mapping-benchmark-dataset-tmonet    LVZ-HDR Tone Mapping Benchmark Dataset (TMO-Net)   24GB  2021-03-01 05:03:40            150  \n",
            "mathurinache/the-lj-speech-dataset                            The LJ Speech Dataset                               3GB  2021-02-15 09:19:54            224  \n",
            "nickuzmenkov/ranzcr-clip-kfold-tfrecords                      RANZCR CLiP KFold TFRecords                         2GB  2021-02-21 13:29:51             98  \n",
            "imsparsh/accentdb-core-extended                               AccentDB - Core & Extended                          6GB  2021-02-17 14:22:54             88  \n",
            "stuartjames/lights                                            LightS: Light Specularity Dataset                  18GB  2021-02-18 14:32:26             87  \n",
            "jessicali9530/animal-crossing-new-horizons-nookplaza-dataset  Animal Crossing New Horizons Catalog              577KB  2021-06-08 15:05:09           4672  \n",
            "datasnaek/youtube-new                                         Trending YouTube Video Statistics                 201MB  2019-06-03 00:56:47         144073  \n",
            "zynicide/wine-reviews                                         Wine Reviews                                       51MB  2017-11-27 17:08:04         139743  \n",
            "residentmario/ramen-ratings                                   Ramen Ratings                                      40KB  2018-01-11 16:04:39          24701  \n"
          ],
          "name": "stdout"
        }
      ]
    },
    {
      "cell_type": "code",
      "metadata": {
        "id": "q4ORB0zgjeg9"
      },
      "source": [
        "#getting the dat from kaggle\n",
        "!kaggle datasets download -d msambare/fer2013"
      ],
      "execution_count": null,
      "outputs": []
    },
    {
      "cell_type": "code",
      "metadata": {
        "id": "hYnEHYhcjfKg"
      },
      "source": [
        "#unzipping the dat\n",
        "! mkdir train2\n",
        "! unzip fer2013.zip -d train2"
      ],
      "execution_count": null,
      "outputs": []
    },
    {
      "cell_type": "code",
      "metadata": {
        "id": "JbvytHYw0vCs"
      },
      "source": [
        "\n",
        "!rm -rf '/content/train2/test/disgust'\n",
        "!rm -rf '/content/train2/train/disgust'"
      ],
      "execution_count": null,
      "outputs": []
    },
    {
      "cell_type": "code",
      "metadata": {
        "id": "zufxw-NYs1MN"
      },
      "source": [
        "# preparation of data\n",
        "import os\n",
        "o=['happy','sad','surprise','angry','neutral','fear']\n",
        "for i in o:\n",
        "  print(i)\n",
        "  print(len(os.listdir(os.path.join('/content/train2/train', i)  )))  \n",
        "\n",
        "o=[('happy',3215-150),('sad',830-150),('neutral',965-150),('fear',97-150) ]\n",
        "\n",
        "def hello(yello,num):\n",
        "  train_cat_fnames = os.listdir( '/content/train2/train/'+yello)\n",
        "  for i in range(num):\n",
        "    validation_cats_dir = os.path.join('/content/train2/train/'+yello, train_cat_fnames[i])\n",
        "    os.remove(validation_cats_dir)\n",
        "\n",
        "for yello,num in o:\n",
        "  hello(yello,num)\n",
        "\n",
        "                         \n"
      ],
      "execution_count": null,
      "outputs": []
    },
    {
      "cell_type": "code",
      "metadata": {
        "id": "pBy-Ttl54OpW"
      },
      "source": [
        ""
      ],
      "execution_count": null,
      "outputs": []
    },
    {
      "cell_type": "code",
      "metadata": {
        "id": "cCh004cv3BKt"
      },
      "source": [
        "                            "
      ],
      "execution_count": null,
      "outputs": []
    },
    {
      "cell_type": "code",
      "metadata": {
        "id": "ZR869EBDjpMI"
      },
      "source": [
        "o=['happy','sad','surprise','angry','neutral','fear']\n",
        "for i in o:\n",
        "  print(i)\n",
        "  print(len(os.listdir(os.path.join('/content/train2/train', i)  )))  "
      ],
      "execution_count": null,
      "outputs": []
    },
    {
      "cell_type": "code",
      "metadata": {
        "id": "uXsaOYWExq3e"
      },
      "source": [
        "# importing the libraries\n",
        "import tensorflow\n",
        "from tensorflow import keras\n",
        "from keras.models import Sequential\n",
        "from keras.layers import Dense, Dropout, Flatten\n",
        "from keras.layers import Conv2D\n",
        "from keras import regularizers\n",
        "from keras.optimizers import Adam\n",
        "from keras.layers import MaxPooling2D\n",
        "from keras.layers import Conv2D, Dense, BatchNormalization, Activation, Dropout, MaxPooling2D, Flatten\n",
        "from keras.preprocessing.image import ImageDataGenerator"
      ],
      "execution_count": null,
      "outputs": []
    },
    {
      "cell_type": "code",
      "metadata": {
        "id": "yTONxmk1JrPh"
      },
      "source": [
        ""
      ],
      "execution_count": null,
      "outputs": []
    },
    {
      "cell_type": "code",
      "metadata": {
        "id": "1QXNVKKBr7qO"
      },
      "source": [
        "# loading the data\n",
        "train_datagen = ImageDataGenerator(rescale=1./255,\n",
        "                                   zoom_range=0.3,\n",
        "                                   horizontal_flip=True)\n",
        "train_dir='/content/train2/train'\n",
        "\n",
        "training_set = train_datagen.flow_from_directory(train_dir,\n",
        "                                                batch_size=64,\n",
        "                                                target_size=(48,48),\n",
        "                                                shuffle=True,\n",
        "                                                color_mode='grayscale',\n",
        "                                                class_mode='categorical')\n",
        "\n",
        "test_datagen = ImageDataGenerator(rescale=1./255)\n",
        "test_dir='/content/train2/test'\n",
        "test_set = test_datagen.flow_from_directory(test_dir,\n",
        "                                                batch_size=64,\n",
        "                                                target_size=(48,48),\n",
        "                                                shuffle=True,\n",
        "                                                color_mode='grayscale',\n",
        "                                                class_mode='categorical')"
      ],
      "execution_count": null,
      "outputs": []
    },
    {
      "cell_type": "code",
      "metadata": {
        "colab": {
          "base_uri": "https://localhost:8080/"
        },
        "id": "SmtEoyKvr730",
        "outputId": "5b2c8ace-8eca-47ae-b4b2-bead0b02fdc7"
      },
      "source": [
        "# model\n",
        "model = tensorflow.keras.models.Sequential()   \n",
        "\n",
        "model.add(Conv2D(32, kernel_size=(3, 3), padding='same', activation='relu', input_shape =(48,48,1)))\n",
        "model.add(Conv2D(64, kernel_size=(3, 3), activation='relu', padding='same'))\n",
        "model.add(BatchNormalization())\n",
        "model.add(MaxPooling2D(2, 2))\n",
        "model.add(Dropout(0.25))\n",
        "\n",
        "model.add(Conv2D(128, kernel_size=(3, 3), activation='relu', padding='same', kernel_regularizer=regularizers.l2(0.01)))\n",
        "model.add(Conv2D(256, kernel_size=(3, 3), activation='relu', kernel_regularizer=regularizers.l2(0.01)))\n",
        "model.add(BatchNormalization())\n",
        "model.add(MaxPooling2D(pool_size=(2, 2)))\n",
        "model.add(Dropout(0.25))\n",
        "\n",
        "model.add(Flatten())\n",
        "model.add(Dense(1024, activation='relu'))\n",
        "model.add(Dropout(0.5))\n",
        "    \n",
        "model.add(Dense(6, activation='softmax'))\n",
        "\n",
        "    #Compliling the model\n",
        "model.compile(optimizer=Adam(learning_rate=0.0001, decay=1e-6),\n",
        "                  loss='categorical_crossentropy', \n",
        "                  metrics=['accuracy'])\n",
        "\n",
        "\n",
        "    \n",
        "\n",
        "\n",
        "\n",
        "# Train the model with the generated images\n",
        "model_info = model.fit_generator(\n",
        "                                    training_set,\n",
        "                                    steps_per_epoch=23713// 64,\n",
        "                                    epochs=50,\n",
        "                                    validation_data=test_set,\n",
        "                                    validation_steps=7067 // 64\n",
        "                                    )"
      ],
      "execution_count": null,
      "outputs": [
        {
          "output_type": "stream",
          "text": [
            "/usr/local/lib/python3.7/dist-packages/tensorflow/python/keras/engine/training.py:1940: UserWarning: `Model.fit_generator` is deprecated and will be removed in a future version. Please use `Model.fit`, which supports generators.\n",
            "  warnings.warn('`Model.fit_generator` is deprecated and '\n"
          ],
          "name": "stderr"
        },
        {
          "output_type": "stream",
          "text": [
            "370/370 [==============================] - 22s 51ms/step - loss: 2.0046 - accuracy: 0.2357 - val_loss: 5.1386 - val_accuracy: 0.1452\n"
          ],
          "name": "stdout"
        }
      ]
    },
    {
      "cell_type": "code",
      "metadata": {
        "colab": {
          "base_uri": "https://localhost:8080/"
        },
        "id": "pz4BDY0er77d",
        "outputId": "f806e664-a6ea-409b-e969-e74b9eeb76f6"
      },
      "source": [
        "model_info = model.fit_generator(\n",
        "                                    training_set,\n",
        "                                    steps_per_epoch=23713// 64,\n",
        "                                    epochs=50,\n",
        "                                    validation_data=test_set,\n",
        "                                    validation_steps=7067 // 64\n",
        "                                    )"
      ],
      "execution_count": null,
      "outputs": [
        {
          "output_type": "stream",
          "text": [
            "Epoch 1/50\n",
            "\r  1/370 [..............................] - ETA: 29s - loss: 1.6386 - accuracy: 0.3438"
          ],
          "name": "stdout"
        },
        {
          "output_type": "stream",
          "text": [
            "/usr/local/lib/python3.7/dist-packages/tensorflow/python/keras/engine/training.py:1940: UserWarning: `Model.fit_generator` is deprecated and will be removed in a future version. Please use `Model.fit`, which supports generators.\n",
            "  warnings.warn('`Model.fit_generator` is deprecated and '\n"
          ],
          "name": "stderr"
        },
        {
          "output_type": "stream",
          "text": [
            "370/370 [==============================] - 18s 48ms/step - loss: 1.6799 - accuracy: 0.2865 - val_loss: 1.5293 - val_accuracy: 0.3764\n",
            "Epoch 2/50\n",
            "370/370 [==============================] - 18s 48ms/step - loss: 1.6188 - accuracy: 0.3249 - val_loss: 1.4818 - val_accuracy: 0.3990\n",
            "Epoch 3/50\n",
            "370/370 [==============================] - 18s 48ms/step - loss: 1.5709 - accuracy: 0.3573 - val_loss: 1.4471 - val_accuracy: 0.4280\n",
            "Epoch 4/50\n",
            "370/370 [==============================] - 17s 47ms/step - loss: 1.5249 - accuracy: 0.3728 - val_loss: 1.4381 - val_accuracy: 0.4320\n",
            "Epoch 5/50\n",
            "370/370 [==============================] - 18s 47ms/step - loss: 1.4885 - accuracy: 0.3955 - val_loss: 1.3976 - val_accuracy: 0.4436\n",
            "Epoch 6/50\n",
            "370/370 [==============================] - 18s 48ms/step - loss: 1.4480 - accuracy: 0.4152 - val_loss: 1.3347 - val_accuracy: 0.4672\n",
            "Epoch 7/50\n",
            "370/370 [==============================] - 18s 48ms/step - loss: 1.4217 - accuracy: 0.4287 - val_loss: 1.3091 - val_accuracy: 0.4866\n",
            "Epoch 8/50\n",
            "370/370 [==============================] - 18s 48ms/step - loss: 1.3963 - accuracy: 0.4426 - val_loss: 1.2555 - val_accuracy: 0.5101\n",
            "Epoch 9/50\n",
            "370/370 [==============================] - 18s 47ms/step - loss: 1.3639 - accuracy: 0.4529 - val_loss: 1.2026 - val_accuracy: 0.5301\n",
            "Epoch 10/50\n",
            "370/370 [==============================] - 18s 48ms/step - loss: 1.3361 - accuracy: 0.4684 - val_loss: 1.1755 - val_accuracy: 0.5369\n",
            "Epoch 11/50\n",
            "370/370 [==============================] - 18s 48ms/step - loss: 1.3182 - accuracy: 0.4774 - val_loss: 1.1772 - val_accuracy: 0.5384\n",
            "Epoch 12/50\n",
            "370/370 [==============================] - 18s 48ms/step - loss: 1.2881 - accuracy: 0.4910 - val_loss: 1.1816 - val_accuracy: 0.5464\n",
            "Epoch 13/50\n",
            "370/370 [==============================] - 18s 48ms/step - loss: 1.2666 - accuracy: 0.5067 - val_loss: 1.1830 - val_accuracy: 0.5476\n",
            "Epoch 14/50\n",
            "370/370 [==============================] - 18s 48ms/step - loss: 1.2496 - accuracy: 0.5073 - val_loss: 1.1449 - val_accuracy: 0.5561\n",
            "Epoch 15/50\n",
            "370/370 [==============================] - 18s 48ms/step - loss: 1.2257 - accuracy: 0.5180 - val_loss: 1.1378 - val_accuracy: 0.5521\n",
            "Epoch 16/50\n",
            "370/370 [==============================] - 18s 47ms/step - loss: 1.2108 - accuracy: 0.5240 - val_loss: 1.1822 - val_accuracy: 0.5472\n",
            "Epoch 17/50\n",
            "370/370 [==============================] - 18s 47ms/step - loss: 1.1904 - accuracy: 0.5317 - val_loss: 1.1688 - val_accuracy: 0.5696\n",
            "Epoch 18/50\n",
            "370/370 [==============================] - 18s 48ms/step - loss: 1.1709 - accuracy: 0.5440 - val_loss: 1.2344 - val_accuracy: 0.5629\n",
            "Epoch 19/50\n",
            "370/370 [==============================] - 18s 48ms/step - loss: 1.1560 - accuracy: 0.5516 - val_loss: 1.1432 - val_accuracy: 0.5820\n",
            "Epoch 20/50\n",
            "370/370 [==============================] - 18s 48ms/step - loss: 1.1384 - accuracy: 0.5617 - val_loss: 1.1231 - val_accuracy: 0.5830\n",
            "Epoch 21/50\n",
            "370/370 [==============================] - 18s 48ms/step - loss: 1.1157 - accuracy: 0.5691 - val_loss: 1.1326 - val_accuracy: 0.5885\n",
            "Epoch 22/50\n",
            "370/370 [==============================] - 18s 48ms/step - loss: 1.0990 - accuracy: 0.5767 - val_loss: 1.1148 - val_accuracy: 0.5999\n",
            "Epoch 23/50\n",
            "370/370 [==============================] - 18s 48ms/step - loss: 1.0811 - accuracy: 0.5867 - val_loss: 1.1462 - val_accuracy: 0.5902\n",
            "Epoch 24/50\n",
            "370/370 [==============================] - 18s 48ms/step - loss: 1.0609 - accuracy: 0.5900 - val_loss: 1.0873 - val_accuracy: 0.6064\n",
            "Epoch 25/50\n",
            "370/370 [==============================] - 18s 48ms/step - loss: 1.0504 - accuracy: 0.5939 - val_loss: 1.1043 - val_accuracy: 0.6048\n",
            "Epoch 26/50\n",
            "370/370 [==============================] - 18s 48ms/step - loss: 1.0290 - accuracy: 0.6053 - val_loss: 1.1049 - val_accuracy: 0.6087\n",
            "Epoch 27/50\n",
            "370/370 [==============================] - 19s 50ms/step - loss: 1.0127 - accuracy: 0.6117 - val_loss: 1.1963 - val_accuracy: 0.5940\n",
            "Epoch 28/50\n",
            "370/370 [==============================] - 18s 47ms/step - loss: 1.0010 - accuracy: 0.6194 - val_loss: 1.0685 - val_accuracy: 0.6203\n",
            "Epoch 29/50\n",
            "370/370 [==============================] - 18s 48ms/step - loss: 0.9911 - accuracy: 0.6226 - val_loss: 1.1159 - val_accuracy: 0.6155\n",
            "Epoch 30/50\n",
            "370/370 [==============================] - 18s 48ms/step - loss: 0.9709 - accuracy: 0.6272 - val_loss: 1.1129 - val_accuracy: 0.6183\n",
            "Epoch 31/50\n",
            "370/370 [==============================] - 18s 47ms/step - loss: 0.9530 - accuracy: 0.6370 - val_loss: 1.1407 - val_accuracy: 0.6214\n",
            "Epoch 32/50\n",
            "370/370 [==============================] - 18s 48ms/step - loss: 0.9300 - accuracy: 0.6490 - val_loss: 1.2839 - val_accuracy: 0.6026\n",
            "Epoch 33/50\n",
            "370/370 [==============================] - 18s 47ms/step - loss: 0.9165 - accuracy: 0.6538 - val_loss: 1.1806 - val_accuracy: 0.6057\n",
            "Epoch 34/50\n",
            "370/370 [==============================] - 18s 47ms/step - loss: 0.9109 - accuracy: 0.6526 - val_loss: 1.3077 - val_accuracy: 0.6043\n",
            "Epoch 35/50\n",
            "370/370 [==============================] - 17s 47ms/step - loss: 0.8916 - accuracy: 0.6592 - val_loss: 1.1779 - val_accuracy: 0.6189\n",
            "Epoch 36/50\n",
            "370/370 [==============================] - 18s 48ms/step - loss: 0.8814 - accuracy: 0.6659 - val_loss: 1.1709 - val_accuracy: 0.6223\n",
            "Epoch 37/50\n",
            "370/370 [==============================] - 18s 48ms/step - loss: 0.8636 - accuracy: 0.6731 - val_loss: 1.1492 - val_accuracy: 0.6276\n",
            "Epoch 38/50\n",
            "370/370 [==============================] - 17s 47ms/step - loss: 0.8457 - accuracy: 0.6799 - val_loss: 1.2062 - val_accuracy: 0.6344\n",
            "Epoch 39/50\n",
            "370/370 [==============================] - 18s 47ms/step - loss: 0.8324 - accuracy: 0.6879 - val_loss: 1.3933 - val_accuracy: 0.6124\n",
            "Epoch 40/50\n",
            "370/370 [==============================] - 18s 47ms/step - loss: 0.8204 - accuracy: 0.6907 - val_loss: 1.1369 - val_accuracy: 0.6288\n",
            "Epoch 41/50\n",
            "370/370 [==============================] - 18s 47ms/step - loss: 0.8118 - accuracy: 0.6952 - val_loss: 1.1897 - val_accuracy: 0.6297\n",
            "Epoch 42/50\n",
            "370/370 [==============================] - 17s 47ms/step - loss: 0.7960 - accuracy: 0.6989 - val_loss: 1.1876 - val_accuracy: 0.6307\n",
            "Epoch 43/50\n",
            "370/370 [==============================] - 18s 47ms/step - loss: 0.7777 - accuracy: 0.7107 - val_loss: 1.2237 - val_accuracy: 0.6328\n",
            "Epoch 44/50\n",
            "370/370 [==============================] - 18s 47ms/step - loss: 0.7726 - accuracy: 0.7136 - val_loss: 1.1741 - val_accuracy: 0.6389\n",
            "Epoch 45/50\n",
            "370/370 [==============================] - 17s 47ms/step - loss: 0.7553 - accuracy: 0.7170 - val_loss: 1.2207 - val_accuracy: 0.6281\n",
            "Epoch 46/50\n",
            "370/370 [==============================] - 17s 47ms/step - loss: 0.7493 - accuracy: 0.7201 - val_loss: 1.4085 - val_accuracy: 0.6206\n",
            "Epoch 47/50\n",
            "370/370 [==============================] - 18s 47ms/step - loss: 0.7279 - accuracy: 0.7276 - val_loss: 1.1397 - val_accuracy: 0.6413\n",
            "Epoch 48/50\n",
            "370/370 [==============================] - 18s 47ms/step - loss: 0.7180 - accuracy: 0.7344 - val_loss: 1.2308 - val_accuracy: 0.6386\n",
            "Epoch 49/50\n",
            "370/370 [==============================] - 18s 48ms/step - loss: 0.7126 - accuracy: 0.7333 - val_loss: 1.4862 - val_accuracy: 0.6366\n",
            "Epoch 50/50\n",
            "370/370 [==============================] - 18s 47ms/step - loss: 0.6976 - accuracy: 0.7415 - val_loss: 1.3178 - val_accuracy: 0.6324\n"
          ],
          "name": "stdout"
        }
      ]
    },
    {
      "cell_type": "code",
      "metadata": {
        "colab": {
          "base_uri": "https://localhost:8080/"
        },
        "id": "qoXgjC_kpo_x",
        "outputId": "e3f2e1e4-98ca-4131-a1c4-42b02f80334c"
      },
      "source": [
        "model_info = model.fit_generator(\n",
        "                                    training_set,\n",
        "                                    steps_per_epoch=23713// 64,\n",
        "                                    epochs=10,\n",
        "                                    validation_data=test_set,\n",
        "                                    validation_steps=7067 // 64\n",
        "                                    )"
      ],
      "execution_count": null,
      "outputs": [
        {
          "output_type": "stream",
          "text": [
            "Epoch 1/10\n",
            "\r  1/370 [..............................] - ETA: 28s - loss: 0.3211 - accuracy: 0.8906"
          ],
          "name": "stdout"
        },
        {
          "output_type": "stream",
          "text": [
            "/usr/local/lib/python3.7/dist-packages/tensorflow/python/keras/engine/training.py:1940: UserWarning: `Model.fit_generator` is deprecated and will be removed in a future version. Please use `Model.fit`, which supports generators.\n",
            "  warnings.warn('`Model.fit_generator` is deprecated and '\n"
          ],
          "name": "stderr"
        },
        {
          "output_type": "stream",
          "text": [
            "370/370 [==============================] - 18s 48ms/step - loss: 0.2321 - accuracy: 0.9183 - val_loss: 2.2035 - val_accuracy: 0.6594\n",
            "Epoch 2/10\n",
            "370/370 [==============================] - 18s 48ms/step - loss: 0.2311 - accuracy: 0.9183 - val_loss: 1.9764 - val_accuracy: 0.6645\n",
            "Epoch 3/10\n",
            "370/370 [==============================] - 18s 47ms/step - loss: 0.2299 - accuracy: 0.9211 - val_loss: 2.2664 - val_accuracy: 0.6580\n",
            "Epoch 4/10\n",
            "370/370 [==============================] - 18s 48ms/step - loss: 0.2355 - accuracy: 0.9187 - val_loss: 2.1609 - val_accuracy: 0.6675\n",
            "Epoch 5/10\n",
            "370/370 [==============================] - 18s 48ms/step - loss: 0.2260 - accuracy: 0.9212 - val_loss: 2.2457 - val_accuracy: 0.6585\n",
            "Epoch 6/10\n",
            "370/370 [==============================] - 19s 51ms/step - loss: 0.2357 - accuracy: 0.9170 - val_loss: 2.0945 - val_accuracy: 0.6575\n",
            "Epoch 7/10\n",
            "370/370 [==============================] - 18s 50ms/step - loss: 0.2237 - accuracy: 0.9212 - val_loss: 2.1871 - val_accuracy: 0.6649\n",
            "Epoch 8/10\n",
            "370/370 [==============================] - 18s 49ms/step - loss: 0.2213 - accuracy: 0.9223 - val_loss: 2.1307 - val_accuracy: 0.6599\n",
            "Epoch 9/10\n",
            "370/370 [==============================] - 18s 49ms/step - loss: 0.2348 - accuracy: 0.9190 - val_loss: 1.8534 - val_accuracy: 0.6588\n",
            "Epoch 10/10\n",
            "370/370 [==============================] - 19s 50ms/step - loss: 0.2265 - accuracy: 0.9220 - val_loss: 2.3159 - val_accuracy: 0.6666\n"
          ],
          "name": "stdout"
        }
      ]
    },
    {
      "cell_type": "code",
      "metadata": {
        "colab": {
          "base_uri": "https://localhost:8080/"
        },
        "id": "ePrJ_IyippJJ",
        "outputId": "a477e7f7-23ca-45f5-92be-6162f5aa34cc"
      },
      "source": [
        "model.summary()"
      ],
      "execution_count": null,
      "outputs": [
        {
          "output_type": "stream",
          "text": [
            "Model: \"sequential_3\"\n",
            "_________________________________________________________________\n",
            "Layer (type)                 Output Shape              Param #   \n",
            "=================================================================\n",
            "module_wrapper_42 (ModuleWra (None, None, None, 32)    320       \n",
            "_________________________________________________________________\n",
            "module_wrapper_43 (ModuleWra (None, None, None, 64)    18496     \n",
            "_________________________________________________________________\n",
            "module_wrapper_44 (ModuleWra (None, None, None, 64)    256       \n",
            "_________________________________________________________________\n",
            "module_wrapper_45 (ModuleWra (None, None, None, 64)    0         \n",
            "_________________________________________________________________\n",
            "module_wrapper_46 (ModuleWra (None, None, None, 64)    0         \n",
            "_________________________________________________________________\n",
            "module_wrapper_47 (ModuleWra (None, None, None, 128)   73856     \n",
            "_________________________________________________________________\n",
            "module_wrapper_48 (ModuleWra (None, None, None, 256)   295168    \n",
            "_________________________________________________________________\n",
            "module_wrapper_49 (ModuleWra (None, None, None, 256)   1024      \n",
            "_________________________________________________________________\n",
            "module_wrapper_50 (ModuleWra (None, None, None, 256)   0         \n",
            "_________________________________________________________________\n",
            "module_wrapper_51 (ModuleWra (None, None, None, 256)   0         \n",
            "_________________________________________________________________\n",
            "module_wrapper_52 (ModuleWra (None, None)              0         \n",
            "_________________________________________________________________\n",
            "module_wrapper_53 (ModuleWra (None, 1024)              31720448  \n",
            "_________________________________________________________________\n",
            "module_wrapper_54 (ModuleWra (None, 1024)              0         \n",
            "_________________________________________________________________\n",
            "module_wrapper_55 (ModuleWra (None, 6)                 6150      \n",
            "=================================================================\n",
            "Total params: 32,115,718\n",
            "Trainable params: 32,115,078\n",
            "Non-trainable params: 640\n",
            "_________________________________________________________________\n"
          ],
          "name": "stdout"
        }
      ]
    },
    {
      "cell_type": "code",
      "metadata": {
        "id": "5o0_GY00g4vM"
      },
      "source": [
        ""
      ],
      "execution_count": null,
      "outputs": []
    },
    {
      "cell_type": "code",
      "metadata": {
        "id": "LpznZGmbg4xz"
      },
      "source": [
        ""
      ],
      "execution_count": null,
      "outputs": []
    },
    {
      "cell_type": "code",
      "metadata": {
        "id": "oUQYPFbzg40I"
      },
      "source": [
        ""
      ],
      "execution_count": null,
      "outputs": []
    },
    {
      "cell_type": "code",
      "metadata": {
        "id": "K4j0E1Xwg43k"
      },
      "source": [
        ""
      ],
      "execution_count": null,
      "outputs": []
    },
    {
      "cell_type": "code",
      "metadata": {
        "id": "dHrWqZuw9A62"
      },
      "source": [
        "model.save(\"cnn.h5\")"
      ],
      "execution_count": null,
      "outputs": []
    },
    {
      "cell_type": "code",
      "metadata": {
        "colab": {
          "base_uri": "https://localhost:8080/"
        },
        "id": "TMwaOp7_3TY8",
        "outputId": "d00ccaba-85d0-43c7-a115-30443c81c4a6"
      },
      "source": [
        "# saving the model\n",
        "!mkdir project1\n",
        "model.save('/content/project1')\n"
      ],
      "execution_count": null,
      "outputs": [
        {
          "output_type": "stream",
          "text": [
            "WARNING:absl:Found untraced functions such as conv2d_12_layer_call_fn, conv2d_12_layer_call_and_return_conditional_losses, conv2d_13_layer_call_fn, conv2d_13_layer_call_and_return_conditional_losses, dropout_9_layer_call_fn while saving (showing 5 of 50). These functions will not be directly callable after loading.\n"
          ],
          "name": "stderr"
        },
        {
          "output_type": "stream",
          "text": [
            "INFO:tensorflow:Assets written to: /content/project1/assets\n"
          ],
          "name": "stdout"
        },
        {
          "output_type": "stream",
          "text": [
            "INFO:tensorflow:Assets written to: /content/project1/assets\n"
          ],
          "name": "stderr"
        }
      ]
    },
    {
      "cell_type": "code",
      "metadata": {
        "colab": {
          "base_uri": "https://localhost:8080/",
          "height": 134
        },
        "id": "RxoZ_i924IWV",
        "outputId": "5fdccec0-0e66-46c6-e23c-4ff0e942bab1"
      },
      "source": [
        "# downloading the model\n",
        "!zip -r /content/file.zip /content/project1\n",
        "from google.colab import files\n",
        "files.download(\"/content/file.zip\")"
      ],
      "execution_count": null,
      "outputs": [
        {
          "output_type": "stream",
          "text": [
            "updating: content/project1/ (stored 0%)\n",
            "  adding: content/project1/keras_metadata.pb (deflated 87%)\n",
            "  adding: content/project1/variables/ (stored 0%)\n",
            "  adding: content/project1/variables/variables.index (deflated 69%)\n",
            "  adding: content/project1/variables/variables.data-00000-of-00001 (deflated 7%)\n",
            "  adding: content/project1/saved_model.pb (deflated 90%)\n",
            "  adding: content/project1/assets/ (stored 0%)\n"
          ],
          "name": "stdout"
        },
        {
          "output_type": "display_data",
          "data": {
            "application/javascript": [
              "\n",
              "    async function download(id, filename, size) {\n",
              "      if (!google.colab.kernel.accessAllowed) {\n",
              "        return;\n",
              "      }\n",
              "      const div = document.createElement('div');\n",
              "      const label = document.createElement('label');\n",
              "      label.textContent = `Downloading \"${filename}\": `;\n",
              "      div.appendChild(label);\n",
              "      const progress = document.createElement('progress');\n",
              "      progress.max = size;\n",
              "      div.appendChild(progress);\n",
              "      document.body.appendChild(div);\n",
              "\n",
              "      const buffers = [];\n",
              "      let downloaded = 0;\n",
              "\n",
              "      const channel = await google.colab.kernel.comms.open(id);\n",
              "      // Send a message to notify the kernel that we're ready.\n",
              "      channel.send({})\n",
              "\n",
              "      for await (const message of channel.messages) {\n",
              "        // Send a message to notify the kernel that we're ready.\n",
              "        channel.send({})\n",
              "        if (message.buffers) {\n",
              "          for (const buffer of message.buffers) {\n",
              "            buffers.push(buffer);\n",
              "            downloaded += buffer.byteLength;\n",
              "            progress.value = downloaded;\n",
              "          }\n",
              "        }\n",
              "      }\n",
              "      const blob = new Blob(buffers, {type: 'application/binary'});\n",
              "      const a = document.createElement('a');\n",
              "      a.href = window.URL.createObjectURL(blob);\n",
              "      a.download = filename;\n",
              "      div.appendChild(a);\n",
              "      a.click();\n",
              "      div.remove();\n",
              "    }\n",
              "  "
            ],
            "text/plain": [
              "<IPython.core.display.Javascript object>"
            ]
          },
          "metadata": {
            "tags": []
          }
        },
        {
          "output_type": "display_data",
          "data": {
            "application/javascript": [
              "download(\"download_c97b84ee-d887-4e98-900a-75218abd4c36\", \"file.zip\", 359840462)"
            ],
            "text/plain": [
              "<IPython.core.display.Javascript object>"
            ]
          },
          "metadata": {
            "tags": []
          }
        }
      ]
    },
    {
      "cell_type": "code",
      "metadata": {
        "id": "JJLApALK4bkl"
      },
      "source": [
        ""
      ],
      "execution_count": null,
      "outputs": []
    }
  ]
}